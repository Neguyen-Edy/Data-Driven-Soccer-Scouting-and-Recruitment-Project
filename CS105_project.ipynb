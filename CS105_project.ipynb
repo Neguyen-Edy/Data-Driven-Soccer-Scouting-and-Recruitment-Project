{
  "cells": [
    {
      "cell_type": "code",
      "source": [
        "import pandas as pd\n",
        "import numpy as np\n",
        "import matplotlib.pyplot as plt\n",
        "import seaborn as sns\n",
        "from sklearn.preprocessing import StandardScaler\n",
        "from sklearn.neighbors import KNeighborsRegressor\n",
        "from sklearn.decomposition import PCA\n",
        "from sklearn.cluster import KMeans\n",
        "from sklearn.impute import KNNImputer"
      ],
      "metadata": {
        "id": "FoTBrGNGkQRj"
      },
      "execution_count": null,
      "outputs": []
    },
    {
      "cell_type": "code",
      "execution_count": null,
      "metadata": {
        "id": "p6crwtXf1l56"
      },
      "outputs": [],
      "source": [
        "#goal: find the best replacement for Mohammed Salah, star player for Liverpool FC, whose contract expires at the end of the current season (2025). We attempt to use data-driven methods to find a best possible replacement\n",
        "#want to be able to reduce the data to manageable dimenssions, cluster the data, and find nearest neighbors closest to the Mohammed Salah datapoint. Then, within the cluster,\n",
        "#we can use KNN regression to predict which player is going to have the largest number of xG, the target variable we want to focus on once the data is clustered. We want to first focus on players with similar playing styles, hence the first step of clustering.\n",
        "#then out of the similar players with similar playing styles, we want to choose the best possible replacement, from a quality standpoint. xG is traditionally the variable that correlates most closely with goals scored and team performance.\n",
        "#so we want to use xG as our barometer metric of quality (how good a player is)\n",
        "#goal is to find the nearest neighbor with the highest xG (a metric that is predictive of a player's ability to score goals)"
      ]
    },
    {
      "cell_type": "code",
      "source": [
        "#loading the csv in\n",
        "df = pd.read_csv('event_data_final.csv')\n",
        "df.head()"
      ],
      "metadata": {
        "id": "3UdMH2m_EHOC",
        "colab": {
          "base_uri": "https://localhost:8080/",
          "height": 339
        },
        "outputId": "a1bb1fa9-de6d-4ab5-a623-8715b93e1bb9"
      },
      "execution_count": null,
      "outputs": [
        {
          "output_type": "error",
          "ename": "FileNotFoundError",
          "evalue": "[Errno 2] No such file or directory: 'event_data_final.csv'",
          "traceback": [
            "\u001b[0;31m---------------------------------------------------------------------------\u001b[0m",
            "\u001b[0;31mFileNotFoundError\u001b[0m                         Traceback (most recent call last)",
            "\u001b[0;32m<ipython-input-12-3f6fd55d643e>\u001b[0m in \u001b[0;36m<cell line: 2>\u001b[0;34m()\u001b[0m\n\u001b[1;32m      1\u001b[0m \u001b[0;31m#loading the csv in\u001b[0m\u001b[0;34m\u001b[0m\u001b[0;34m\u001b[0m\u001b[0m\n\u001b[0;32m----> 2\u001b[0;31m \u001b[0mdf\u001b[0m \u001b[0;34m=\u001b[0m \u001b[0mpd\u001b[0m\u001b[0;34m.\u001b[0m\u001b[0mread_csv\u001b[0m\u001b[0;34m(\u001b[0m\u001b[0;34m'event_data_final.csv'\u001b[0m\u001b[0;34m)\u001b[0m\u001b[0;34m\u001b[0m\u001b[0;34m\u001b[0m\u001b[0m\n\u001b[0m\u001b[1;32m      3\u001b[0m \u001b[0mdf\u001b[0m\u001b[0;34m.\u001b[0m\u001b[0mhead\u001b[0m\u001b[0;34m(\u001b[0m\u001b[0;34m)\u001b[0m\u001b[0;34m\u001b[0m\u001b[0;34m\u001b[0m\u001b[0m\n",
            "\u001b[0;32m/usr/local/lib/python3.10/dist-packages/pandas/io/parsers/readers.py\u001b[0m in \u001b[0;36mread_csv\u001b[0;34m(filepath_or_buffer, sep, delimiter, header, names, index_col, usecols, dtype, engine, converters, true_values, false_values, skipinitialspace, skiprows, skipfooter, nrows, na_values, keep_default_na, na_filter, verbose, skip_blank_lines, parse_dates, infer_datetime_format, keep_date_col, date_parser, date_format, dayfirst, cache_dates, iterator, chunksize, compression, thousands, decimal, lineterminator, quotechar, quoting, doublequote, escapechar, comment, encoding, encoding_errors, dialect, on_bad_lines, delim_whitespace, low_memory, memory_map, float_precision, storage_options, dtype_backend)\u001b[0m\n\u001b[1;32m   1024\u001b[0m     \u001b[0mkwds\u001b[0m\u001b[0;34m.\u001b[0m\u001b[0mupdate\u001b[0m\u001b[0;34m(\u001b[0m\u001b[0mkwds_defaults\u001b[0m\u001b[0;34m)\u001b[0m\u001b[0;34m\u001b[0m\u001b[0;34m\u001b[0m\u001b[0m\n\u001b[1;32m   1025\u001b[0m \u001b[0;34m\u001b[0m\u001b[0m\n\u001b[0;32m-> 1026\u001b[0;31m     \u001b[0;32mreturn\u001b[0m \u001b[0m_read\u001b[0m\u001b[0;34m(\u001b[0m\u001b[0mfilepath_or_buffer\u001b[0m\u001b[0;34m,\u001b[0m \u001b[0mkwds\u001b[0m\u001b[0;34m)\u001b[0m\u001b[0;34m\u001b[0m\u001b[0;34m\u001b[0m\u001b[0m\n\u001b[0m\u001b[1;32m   1027\u001b[0m \u001b[0;34m\u001b[0m\u001b[0m\n\u001b[1;32m   1028\u001b[0m \u001b[0;34m\u001b[0m\u001b[0m\n",
            "\u001b[0;32m/usr/local/lib/python3.10/dist-packages/pandas/io/parsers/readers.py\u001b[0m in \u001b[0;36m_read\u001b[0;34m(filepath_or_buffer, kwds)\u001b[0m\n\u001b[1;32m    618\u001b[0m \u001b[0;34m\u001b[0m\u001b[0m\n\u001b[1;32m    619\u001b[0m     \u001b[0;31m# Create the parser.\u001b[0m\u001b[0;34m\u001b[0m\u001b[0;34m\u001b[0m\u001b[0m\n\u001b[0;32m--> 620\u001b[0;31m     \u001b[0mparser\u001b[0m \u001b[0;34m=\u001b[0m \u001b[0mTextFileReader\u001b[0m\u001b[0;34m(\u001b[0m\u001b[0mfilepath_or_buffer\u001b[0m\u001b[0;34m,\u001b[0m \u001b[0;34m**\u001b[0m\u001b[0mkwds\u001b[0m\u001b[0;34m)\u001b[0m\u001b[0;34m\u001b[0m\u001b[0;34m\u001b[0m\u001b[0m\n\u001b[0m\u001b[1;32m    621\u001b[0m \u001b[0;34m\u001b[0m\u001b[0m\n\u001b[1;32m    622\u001b[0m     \u001b[0;32mif\u001b[0m \u001b[0mchunksize\u001b[0m \u001b[0;32mor\u001b[0m \u001b[0miterator\u001b[0m\u001b[0;34m:\u001b[0m\u001b[0;34m\u001b[0m\u001b[0;34m\u001b[0m\u001b[0m\n",
            "\u001b[0;32m/usr/local/lib/python3.10/dist-packages/pandas/io/parsers/readers.py\u001b[0m in \u001b[0;36m__init__\u001b[0;34m(self, f, engine, **kwds)\u001b[0m\n\u001b[1;32m   1618\u001b[0m \u001b[0;34m\u001b[0m\u001b[0m\n\u001b[1;32m   1619\u001b[0m         \u001b[0mself\u001b[0m\u001b[0;34m.\u001b[0m\u001b[0mhandles\u001b[0m\u001b[0;34m:\u001b[0m \u001b[0mIOHandles\u001b[0m \u001b[0;34m|\u001b[0m \u001b[0;32mNone\u001b[0m \u001b[0;34m=\u001b[0m \u001b[0;32mNone\u001b[0m\u001b[0;34m\u001b[0m\u001b[0;34m\u001b[0m\u001b[0m\n\u001b[0;32m-> 1620\u001b[0;31m         \u001b[0mself\u001b[0m\u001b[0;34m.\u001b[0m\u001b[0m_engine\u001b[0m \u001b[0;34m=\u001b[0m \u001b[0mself\u001b[0m\u001b[0;34m.\u001b[0m\u001b[0m_make_engine\u001b[0m\u001b[0;34m(\u001b[0m\u001b[0mf\u001b[0m\u001b[0;34m,\u001b[0m \u001b[0mself\u001b[0m\u001b[0;34m.\u001b[0m\u001b[0mengine\u001b[0m\u001b[0;34m)\u001b[0m\u001b[0;34m\u001b[0m\u001b[0;34m\u001b[0m\u001b[0m\n\u001b[0m\u001b[1;32m   1621\u001b[0m \u001b[0;34m\u001b[0m\u001b[0m\n\u001b[1;32m   1622\u001b[0m     \u001b[0;32mdef\u001b[0m \u001b[0mclose\u001b[0m\u001b[0;34m(\u001b[0m\u001b[0mself\u001b[0m\u001b[0;34m)\u001b[0m \u001b[0;34m->\u001b[0m \u001b[0;32mNone\u001b[0m\u001b[0;34m:\u001b[0m\u001b[0;34m\u001b[0m\u001b[0;34m\u001b[0m\u001b[0m\n",
            "\u001b[0;32m/usr/local/lib/python3.10/dist-packages/pandas/io/parsers/readers.py\u001b[0m in \u001b[0;36m_make_engine\u001b[0;34m(self, f, engine)\u001b[0m\n\u001b[1;32m   1878\u001b[0m                 \u001b[0;32mif\u001b[0m \u001b[0;34m\"b\"\u001b[0m \u001b[0;32mnot\u001b[0m \u001b[0;32min\u001b[0m \u001b[0mmode\u001b[0m\u001b[0;34m:\u001b[0m\u001b[0;34m\u001b[0m\u001b[0;34m\u001b[0m\u001b[0m\n\u001b[1;32m   1879\u001b[0m                     \u001b[0mmode\u001b[0m \u001b[0;34m+=\u001b[0m \u001b[0;34m\"b\"\u001b[0m\u001b[0;34m\u001b[0m\u001b[0;34m\u001b[0m\u001b[0m\n\u001b[0;32m-> 1880\u001b[0;31m             self.handles = get_handle(\n\u001b[0m\u001b[1;32m   1881\u001b[0m                 \u001b[0mf\u001b[0m\u001b[0;34m,\u001b[0m\u001b[0;34m\u001b[0m\u001b[0;34m\u001b[0m\u001b[0m\n\u001b[1;32m   1882\u001b[0m                 \u001b[0mmode\u001b[0m\u001b[0;34m,\u001b[0m\u001b[0;34m\u001b[0m\u001b[0;34m\u001b[0m\u001b[0m\n",
            "\u001b[0;32m/usr/local/lib/python3.10/dist-packages/pandas/io/common.py\u001b[0m in \u001b[0;36mget_handle\u001b[0;34m(path_or_buf, mode, encoding, compression, memory_map, is_text, errors, storage_options)\u001b[0m\n\u001b[1;32m    871\u001b[0m         \u001b[0;32mif\u001b[0m \u001b[0mioargs\u001b[0m\u001b[0;34m.\u001b[0m\u001b[0mencoding\u001b[0m \u001b[0;32mand\u001b[0m \u001b[0;34m\"b\"\u001b[0m \u001b[0;32mnot\u001b[0m \u001b[0;32min\u001b[0m \u001b[0mioargs\u001b[0m\u001b[0;34m.\u001b[0m\u001b[0mmode\u001b[0m\u001b[0;34m:\u001b[0m\u001b[0;34m\u001b[0m\u001b[0;34m\u001b[0m\u001b[0m\n\u001b[1;32m    872\u001b[0m             \u001b[0;31m# Encoding\u001b[0m\u001b[0;34m\u001b[0m\u001b[0;34m\u001b[0m\u001b[0m\n\u001b[0;32m--> 873\u001b[0;31m             handle = open(\n\u001b[0m\u001b[1;32m    874\u001b[0m                 \u001b[0mhandle\u001b[0m\u001b[0;34m,\u001b[0m\u001b[0;34m\u001b[0m\u001b[0;34m\u001b[0m\u001b[0m\n\u001b[1;32m    875\u001b[0m                 \u001b[0mioargs\u001b[0m\u001b[0;34m.\u001b[0m\u001b[0mmode\u001b[0m\u001b[0;34m,\u001b[0m\u001b[0;34m\u001b[0m\u001b[0;34m\u001b[0m\u001b[0m\n",
            "\u001b[0;31mFileNotFoundError\u001b[0m: [Errno 2] No such file or directory: 'event_data_final.csv'"
          ]
        }
      ]
    },
    {
      "cell_type": "code",
      "source": [
        "# from google.colab import drive\n",
        "# drive.mount('/content/drive')"
      ],
      "metadata": {
        "id": "t8-DERsI6EdA"
      },
      "execution_count": null,
      "outputs": []
    },
    {
      "cell_type": "markdown",
      "metadata": {
        "id": "RUTJgGVqXrMZ"
      },
      "source": [
        "# **DATA CLEANING**"
      ]
    },
    {
      "cell_type": "markdown",
      "source": [
        "We used a dataset from FBref. We first search for any players/rows with missing data. To fill in that missing data, we use K-Nearest Neighbors imputation. We also converted all the columns into float values."
      ],
      "metadata": {
        "id": "qAEXyV1GScYI"
      }
    },
    {
      "cell_type": "code",
      "source": [
        "#getting rid of nas/or any missing values--> use knn regression to fill in missing values"
      ],
      "metadata": {
        "id": "mCzXSneegZE6"
      },
      "execution_count": null,
      "outputs": []
    },
    {
      "cell_type": "code",
      "source": [
        "rows_with_missing_values = df[df.isnull().any(axis=1)]\n",
        "\n",
        "rows_with_missing_values"
      ],
      "metadata": {
        "id": "hlS1NEqkENCD",
        "colab": {
          "base_uri": "https://localhost:8080/",
          "height": 176
        },
        "outputId": "821a4e1c-06d5-4563-cfd5-df935d409c91"
      },
      "execution_count": null,
      "outputs": [
        {
          "output_type": "error",
          "ename": "NameError",
          "evalue": "name 'df' is not defined",
          "traceback": [
            "\u001b[0;31m---------------------------------------------------------------------------\u001b[0m",
            "\u001b[0;31mNameError\u001b[0m                                 Traceback (most recent call last)",
            "\u001b[0;32m<ipython-input-11-9ae0d93f7155>\u001b[0m in \u001b[0;36m<cell line: 1>\u001b[0;34m()\u001b[0m\n\u001b[0;32m----> 1\u001b[0;31m \u001b[0mrows_with_missing_values\u001b[0m \u001b[0;34m=\u001b[0m \u001b[0mdf\u001b[0m\u001b[0;34m[\u001b[0m\u001b[0mdf\u001b[0m\u001b[0;34m.\u001b[0m\u001b[0misnull\u001b[0m\u001b[0;34m(\u001b[0m\u001b[0;34m)\u001b[0m\u001b[0;34m.\u001b[0m\u001b[0many\u001b[0m\u001b[0;34m(\u001b[0m\u001b[0maxis\u001b[0m\u001b[0;34m=\u001b[0m\u001b[0;36m1\u001b[0m\u001b[0;34m)\u001b[0m\u001b[0;34m]\u001b[0m\u001b[0;34m\u001b[0m\u001b[0;34m\u001b[0m\u001b[0m\n\u001b[0m\u001b[1;32m      2\u001b[0m \u001b[0;34m\u001b[0m\u001b[0m\n\u001b[1;32m      3\u001b[0m \u001b[0mrows_with_missing_values\u001b[0m\u001b[0;34m\u001b[0m\u001b[0;34m\u001b[0m\u001b[0m\n",
            "\u001b[0;31mNameError\u001b[0m: name 'df' is not defined"
          ]
        }
      ]
    },
    {
      "cell_type": "code",
      "source": [
        "df['Min']\n",
        "\n",
        "for index, value in df['Min'].items():\n",
        "    if isinstance(value, str) and ',' in value:\n",
        "        new = value.replace(',',\"\")\n",
        "\n",
        "        df.at[index, 'Min'] = new\n",
        "\n",
        "df['Min'] = df['Min'].astype(float)\n",
        "\n",
        "df['Min']"
      ],
      "metadata": {
        "id": "ezfGF70tdsl2"
      },
      "execution_count": null,
      "outputs": []
    },
    {
      "cell_type": "code",
      "source": [
        "numerical_cols = df.select_dtypes(include=np.number).columns"
      ],
      "metadata": {
        "id": "fnrhJOcjcwUj"
      },
      "execution_count": null,
      "outputs": []
    },
    {
      "cell_type": "code",
      "source": [
        "imputer = KNNImputer(n_neighbors=5)\n",
        "df[numerical_cols] = imputer.fit_transform(df[numerical_cols])\n",
        "\n",
        "rows_with_missing_values_after_imputation = df[df.isnull().any(axis=1)]\n",
        "rows_with_missing_values_after_imputation"
      ],
      "metadata": {
        "id": "vlFQ6J8UHNe3"
      },
      "execution_count": null,
      "outputs": []
    },
    {
      "cell_type": "code",
      "source": [
        "# prompt: check the data type of each column\n",
        "\n",
        "# Check data types of each column\n",
        "df.dtypes"
      ],
      "metadata": {
        "id": "vt-a3gTrdgpU"
      },
      "execution_count": null,
      "outputs": []
    },
    {
      "cell_type": "markdown",
      "metadata": {
        "id": "EUJw_Me0X0N6"
      },
      "source": [
        "# **EDA**"
      ]
    },
    {
      "cell_type": "code",
      "execution_count": null,
      "metadata": {
        "id": "JH_kraF6X2yu"
      },
      "outputs": [],
      "source": [
        "#creating visuals\n",
        "#USE KDE TO SEE THE DISTRIBUTION BETTER\n",
        "\n",
        "#distribution of goals scored\n",
        "plt.figure(figsize=(10,10))\n",
        "sns.histplot(df['Gls'], kde= True, color='maroon')\n",
        "plt.title('Goals Scored')\n",
        "plt.xlabel('Goals')\n",
        "plt.ylabel('Count')\n",
        "plt.show()\n",
        "\n",
        "# #distribution of expected goals (xG)\n",
        "# plt.figure(figsize=(10,10))\n",
        "# sns.histplot(df['xG'], kde= True)\n",
        "# plt.title('Expected goals')\n",
        "# plt.xlabel('expected goals (xG)')\n",
        "# plt.ylabel('Count')\n",
        "# plt.show()\n",
        "\n",
        "# #pass completion vs goals scored\n",
        "# plt.figure(figsize=(10,10))\n",
        "# sns.scatterplot(x=df['Touhces Att Pen'],y=df['xG'])\n",
        "# plt.title('Touches in Penalty Box vs Goals Scored')\n",
        "# plt.xlabel('pass completion (%)')\n",
        "# plt.ylabel('goals scored')\n",
        "# plt.show()\n"
      ]
    },
    {
      "cell_type": "markdown",
      "source": [
        "Explanation: The majority of players in our dataset scored less than 10 goals in their careers. Our distribution is skewed right. Only few players scored more than 30 goals. Our replacement is most likely among those who scored more than 30."
      ],
      "metadata": {
        "id": "SzuITOzCQQVd"
      }
    },
    {
      "cell_type": "code",
      "source": [
        "#distribution of expected goals (xG)\n",
        "plt.figure(figsize=(10,10))\n",
        "sns.histplot(df['xG'], kde= True,color='maroon')\n",
        "plt.title('Expected goals')\n",
        "plt.xlabel('expected goals (xG)')\n",
        "plt.ylabel('Count')\n",
        "plt.show()"
      ],
      "metadata": {
        "id": "QFFVO8ENPIww"
      },
      "execution_count": null,
      "outputs": []
    },
    {
      "cell_type": "markdown",
      "source": [
        "Explanation: The histogram shows the distribution of players expected goals across the dataset. Majority of players have an expected goal value between 0 and 10, suggesting that most players in the dataset are expected to score about 5 goals.\n"
      ],
      "metadata": {
        "id": "5t8jDA4Kfkfe"
      }
    },
    {
      "cell_type": "code",
      "source": [
        "#pass completion vs goals scored\n",
        "plt.figure(figsize=(10,10))\n",
        "sns.scatterplot(x=df['Touhces Att Pen'],y=df['xG'], color='maroon')\n",
        "plt.title('Touches in Penalty Box vs Goals Scored')\n",
        "plt.xlabel('touches in the penalty box')\n",
        "plt.ylabel('goals scored')\n",
        "plt.show()"
      ],
      "metadata": {
        "id": "X0t-Du4WPJBp"
      },
      "execution_count": null,
      "outputs": []
    },
    {
      "cell_type": "markdown",
      "source": [
        "Explanation: The scatter plot shows the relationship between touches in the penalty box vs amount of goals scored. There is a positive correlation, meaning that players who have more touches in the penalty box typically score more goals.  "
      ],
      "metadata": {
        "id": "k99V3NODfpGz"
      }
    },
    {
      "cell_type": "code",
      "source": [
        "df.sort_values(by='Gls', ascending=False).head(10)"
      ],
      "metadata": {
        "id": "3Wg_vsTD31U_",
        "colab": {
          "base_uri": "https://localhost:8080/",
          "height": 141
        },
        "outputId": "4d27641b-9d12-4942-d948-54dca5e6cb54"
      },
      "execution_count": null,
      "outputs": [
        {
          "output_type": "error",
          "ename": "NameError",
          "evalue": "name 'df' is not defined",
          "traceback": [
            "\u001b[0;31m---------------------------------------------------------------------------\u001b[0m",
            "\u001b[0;31mNameError\u001b[0m                                 Traceback (most recent call last)",
            "\u001b[0;32m<ipython-input-13-613a7766e7d7>\u001b[0m in \u001b[0;36m<cell line: 1>\u001b[0;34m()\u001b[0m\n\u001b[0;32m----> 1\u001b[0;31m \u001b[0mdf\u001b[0m\u001b[0;34m.\u001b[0m\u001b[0msort_values\u001b[0m\u001b[0;34m(\u001b[0m\u001b[0mby\u001b[0m\u001b[0;34m=\u001b[0m\u001b[0;34m'Gls'\u001b[0m\u001b[0;34m,\u001b[0m \u001b[0mascending\u001b[0m\u001b[0;34m=\u001b[0m\u001b[0;32mFalse\u001b[0m\u001b[0;34m)\u001b[0m\u001b[0;34m.\u001b[0m\u001b[0mhead\u001b[0m\u001b[0;34m(\u001b[0m\u001b[0;36m10\u001b[0m\u001b[0;34m)\u001b[0m\u001b[0;34m\u001b[0m\u001b[0;34m\u001b[0m\u001b[0m\n\u001b[0m",
            "\u001b[0;31mNameError\u001b[0m: name 'df' is not defined"
          ]
        }
      ]
    },
    {
      "cell_type": "code",
      "source": [
        "selected_columns = ['Gls', 'xG', 'xAG','Shots', 'Pass Cmp %', 'Touhces Att Pen']\n",
        "\n",
        "correlation_matrix = df[selected_columns].corr()\n",
        "plt.figure(figsize=(12, 8))\n",
        "sns.heatmap(correlation_matrix, annot=True, cmap='coolwarm', cbar=True)\n",
        "plt.title('correlation matrix of key metrics')\n",
        "plt.show()"
      ],
      "metadata": {
        "id": "LrYq-6WFqGFn"
      },
      "execution_count": null,
      "outputs": []
    },
    {
      "cell_type": "markdown",
      "source": [
        "Explanation: This correlation matrix shows the correlation coefficients between our key metrics. The highest coefficient on the matrix is between xG and Gls or expected goals and goals. This suggests a strong relationship between a player's goals and the player's expected goal. The lowest coefficients belong to Pass Cmp % or the percentage that passes are completed. This suggests that the amount of passes completed does not have any correlation to the expected goals of a player. It has a weak relationship between all our key metrics."
      ],
      "metadata": {
        "id": "U2L9mr8PwNJC"
      }
    },
    {
      "cell_type": "markdown",
      "metadata": {
        "id": "f_T3mnxSX3F4"
      },
      "source": [
        "# **ANALYZING THE DATA**"
      ]
    },
    {
      "cell_type": "code",
      "execution_count": null,
      "metadata": {
        "id": "UUeMj3ycX_-z"
      },
      "outputs": [],
      "source": [
        "''' Unsupervised learning - PCA dimensionality reduction + K-Means/K-NN Clustering to group players based on their different play styles and roles;\n",
        "different players, even though they play the same position on the same side, often have completely different roles for their respective teams,\n",
        "making finding a stylistic fit extrenely important to best replace a player. The player stats and their different combinations indicate different playstyles and roles'''\n",
        "\n",
        "'''Supervises Learning - the player we want to scout a replacement for is Mohammed Salah. We want to select all the players that are in the same cluster he is (players with\n",
        "similar playing styles), and select those observations as a new dataframe. We will use player name to index and get the original columns from the data. Then we can use\n",
        "KNN regression to target the player who is predicted to have the highest xG, a metric indicative of player quality'''\n",
        "\n",
        "'''unsupervised - cluster players on play style\n",
        "supervised - from the players in the same cluster as Mohammed Salah, predict player with highest xG'''"
      ]
    },
    {
      "cell_type": "code",
      "source": [
        "df.columns"
      ],
      "metadata": {
        "id": "wqzuiaZrPVbP"
      },
      "execution_count": null,
      "outputs": []
    },
    {
      "cell_type": "markdown",
      "source": [
        "Here, we applied PCA dimension reduction to make it easier for k means clustering to cluster our players. We reduced all our features that were float values into 3 principal components.\n",
        "\n",
        "After applying PCA, we now do K-Means clustering. We selected k to be 5 due to there being 5 different play styles/roles that forward players have.\n",
        "\n",
        "1) 'Breaker' - best suited at 1v1s\n",
        "\n",
        "2) 'Runner' - what do they do?\n",
        "\n",
        "3) 'Creator' - the one who starts the attack\n",
        "\n",
        "4) 'Magician' - exceptional creativity, high football IQ with many tools and techniques to utilize\n",
        "\n",
        "5) 'Carrier' - what do they do?\n",
        "\n",
        "\n"
      ],
      "metadata": {
        "id": "KH192_SdfyMl"
      }
    },
    {
      "cell_type": "code",
      "source": [
        "#dimensionality reduction\n",
        "\n",
        "#float columns\n",
        "pca_cols = ['Avg Sht Dist', 'FK',\n",
        "       'Pass Cmp %', 'Assisted Sht',\n",
        "       'Completed Final Third', 'Passes into Pen Box', 'Crosses Cmpl',\n",
        "       'Progressive Passes', 'Total Passing Distance',\n",
        "       'Total Progressive Pass Distance', 'Short Passes Completed',\n",
        "       'Short Passes Att', 'Short Passing Cmpl %', 'Medium Passes Cmpl',\n",
        "       'Medium Passes Att', 'Medum Pass Cmpl %', 'Long Passes Cmpl',\n",
        "       'Long Passes Att', 'Long Pass Cmpl %', 'Shot Creating Actions',\n",
        "       'Live Pass to Shot', 'Dead Pass to Shot', 'Take-Ons to Shot',\n",
        "       'Shots  to  Shot', 'Def Actions to Shot',\n",
        "       'Goal-Creating Actions', 'Goal Creating Live Passes',\n",
        "       'Goal Creating Dead Passes', 'Take-Ons to Goal', 'Shots to Goal Scored',\n",
        "       'Fouls to Goals', 'Def Actions to Goal', 'Carries',\n",
        "       'Total Carrying Distance', 'Total Progressive Distance',\n",
        "       'Progressive Carries', 'Final Third Entry Carries', 'Carries into box',\n",
        "       'Dispossessions', 'Passes Received',\n",
        "       'Prgogressive Passes Received', 'Total Touches', 'Touches  Def Pen',\n",
        "       'Touches  Def 3rd', 'Touches Mid 3', 'Touches Att 3rd',\n",
        "       'Touhces Att Pen', 'Touches Live', 'Take-Ons Attempted',\n",
        "       'Take-Ons Sucessful ', 'Take-On Success', 'Tackled', 'Tackled %',\n",
        "       ]\n",
        "\n",
        "\n",
        "data = df[pca_cols]\n",
        "\n",
        "#pca\n",
        "scaler = StandardScaler()\n",
        "scaled_data = scaler.fit_transform(data)\n",
        "\n",
        "#PCA\n",
        "pca = PCA(n_components=3)\n",
        "data_pca = pca.fit_transform(scaled_data)\n",
        "\n",
        "#k-means clustering =\n",
        "kmeans = KMeans(n_clusters=5, random_state=42)\n",
        "\n",
        "df['cluster'] = kmeans.fit_predict(data_pca)\n",
        "\n",
        "clusters = df['cluster']\n",
        "\n",
        "\n",
        "plt.figure(figsize=(10, 7))\n",
        "plt.scatter(data_pca[:, 0], data_pca[:, 1], c=clusters, cmap='Reds', s=50, alpha=0.7)\n",
        "plt.title('Player Clusters')\n",
        "plt.xlabel('Principal Component 1')\n",
        "plt.ylabel('Principal Component 2')\n",
        "plt.colorbar(label='Cluster')\n",
        "plt.show()"
      ],
      "metadata": {
        "id": "H4WdbVFHOSxV"
      },
      "execution_count": null,
      "outputs": []
    },
    {
      "cell_type": "markdown",
      "source": [
        "After clustering our players, we take the cluster with Mohamed Salah and make a new dataframe with only the players that belong in the same cluster as Mohamed Salah. That cluster is labeled as '2'. We now apply KNN regression model to predict the xG value of each player. The player that matches or exceeds Mohamed Salah's xG value will be selected as his replacement."
      ],
      "metadata": {
        "id": "sW9xOTATVNKG"
      }
    },
    {
      "cell_type": "code",
      "source": [
        "mohamed_salah_cluster = df[df['Player'] == 'Mohamed Salah']['cluster'].values[0]\n",
        "\n",
        "similar_players = df[df['cluster'] == mohamed_salah_cluster]\n",
        "\n",
        "similar_players['Player']"
      ],
      "metadata": {
        "id": "AgcdIhllXSnw"
      },
      "execution_count": null,
      "outputs": []
    },
    {
      "cell_type": "code",
      "source": [
        "#create model for xG from orignal dataset using only the same columns used for the PCA; we don't have a model for xg, or a way to predict it from our data\n",
        "#we only have what's provided. By predicting xG from the data, we can\n",
        "\n",
        "\n",
        "#slice a new dataframe with only clustered players along with their data\n",
        "\n",
        "#apply model to the dataframe with only players in the same cluster as mohammed salah\n",
        "\n",
        "\n",
        "#identify player withi the highest predicted xG"
      ],
      "metadata": {
        "id": "lf34E6ogXLSQ"
      },
      "execution_count": null,
      "outputs": []
    },
    {
      "cell_type": "code",
      "source": [
        "similar_players"
      ],
      "metadata": {
        "id": "8mukb6RdPr4d"
      },
      "execution_count": null,
      "outputs": []
    },
    {
      "cell_type": "code",
      "source": [
        "features = ['Starts','SoT', '% SoT', 'Avg Sht Dist', 'FK',\n",
        "       'Total Passes Comp', 'Total Passes Att', 'Pass Cmp %', 'Assisted Sht',\n",
        "       'Completed Final Third', 'Passes into Pen Box', 'Crosses Cmpl',\n",
        "       'Progressive Passes', 'Total Passing Distance',\n",
        "       'Total Progressive Pass Distance', 'Short Passes Completed',\n",
        "       'Short Passes Att', 'Short Passing Cmpl %', 'Medium Passes Cmpl',\n",
        "       'Medium Passes Att', 'Medum Pass Cmpl %', 'Long Passes Cmpl',\n",
        "       'Long Passes Att', 'Long Pass Cmpl %', 'Shot Creating Actions',\n",
        "       'Live Pass to Shot', 'Dead Pass to Shot', 'Take-Ons to Shot',\n",
        "       'Shots  to  Shot', 'Fouls Drawn', 'Def Actions to Shot',\n",
        "       'Goal-Creating Actions', 'Goal Creating Live Passes',\n",
        "       'Goal Creating Dead Passes', 'Take-Ons to Goal', 'Shots to Goal Scored',\n",
        "       'Fouls to Goals', 'Def Actions to Goal', 'Carries',\n",
        "       'Total Carrying Distance', 'Total Progressive Distance',\n",
        "       'Progressive Carries', 'Final Third Entry Carries', 'Carries into box',\n",
        "       'Miscontrols', 'Dispossessions', 'Passes Received',\n",
        "       'Prgogressive Passes Received', 'Total Touches', 'Touches  Def Pen',\n",
        "       'Touches  Def 3rd', 'Touches Mid 3', 'Touches Att 3rd',\n",
        "       'Touhces Att Pen', 'Touches Live', 'Take-Ons Attempted',\n",
        "       'Take-Ons Sucessful ', 'Take-On Success', 'Tackled', 'Tackled %']\n",
        "\n",
        "target = 'xG'\n",
        "\n",
        "X = similar_players[features]\n",
        "y = similar_players[target]\n",
        "scaler = StandardScaler()\n",
        "X_scaled = scaler.fit_transform(X)\n",
        "\n",
        "knn = KNeighborsRegressor(n_neighbors=5)\n",
        "knn.fit(X_scaled, y)"
      ],
      "metadata": {
        "id": "Jg86-xruQgkY"
      },
      "execution_count": null,
      "outputs": []
    },
    {
      "cell_type": "code",
      "source": [
        "similar_players.loc[:,'predicted_xG'] = knn.predict(X_scaled).copy()\n",
        "\n",
        "top_player = similar_players.loc[similar_players['predicted_xG'].idxmax()]\n",
        "top_player_name = top_player['Player']\n",
        "top_player_predicted_xG = top_player['predicted_xG']\n",
        "\n",
        "top_players_list = similar_players.nlargest(10, 'predicted_xG')['Player'].tolist()\n",
        "\n",
        "\n",
        "print(f\"Top player: {top_player_name}, Predicted xG: {top_player_predicted_xG}\")\n",
        "print(\"List of top players:\", top_players_list)\n"
      ],
      "metadata": {
        "id": "g9SCVK6JfTWs"
      },
      "execution_count": null,
      "outputs": []
    },
    {
      "cell_type": "code",
      "source": [
        "# List of Top Forward players:\n",
        "top_forwards = [\n",
        "    \"Harry Kane\",\n",
        "    \"Erling Haaland\",\n",
        "    \"Kylian Mbappé\",\n",
        "    \"Robert Lewandowski\",\n",
        "    \"Lautaro Martínez\",\n",
        "    \"Loïs Openda\",\n",
        "    \"Jonathan David\",\n",
        "    \"Alexandre Lacazette\",\n",
        "    \"Mohamed Salah\",\n",
        "    \"Serhou Guirassy\"\n",
        "]\n",
        "\n",
        "print(\"Top 10 Forwards in European Leagues:\")\n",
        "for i, player in enumerate(top_forwards, start=1):\n",
        "    print(f\"{i}. {player}\")\n",
        "\n",
        "while True:\n",
        "    try:\n",
        "        player_index = int(input(\"Enter the number corresponding to the player (1-10): \"))\n",
        "        if 1 <= player_index <= 10:\n",
        "            selected_player = top_forwards[player_index - 1]\n",
        "            break\n",
        "        else:\n",
        "            print(\"Please enter a number between 1 to 10.\")\n",
        "    except ValueError:\n",
        "        print(\"Invalid input. Please enter a number.\")\n",
        "\n",
        "print(f\"\\nYou selected: {selected_player}\")\n",
        "selected_player_cluster = similar_players[similar_players['Player'] == selected_player]['cluster'].values[0]\n",
        "similar_players_cluster = similar_players[similar_players['cluster'] == selected_player_cluster].copy()\n",
        "\n",
        "features = [\n",
        "    'Starts', 'SoT', '% SoT', 'Avg Sht Dist', 'FK',\n",
        "    'Total Passes Comp', 'Total Passes Att', 'Pass Cmp %', 'Assisted Sht',\n",
        "    'Completed Final Third', 'Passes into Pen Box', 'Crosses Cmpl',\n",
        "    'Progressive Passes', 'Total Passing Distance',\n",
        "    'Total Progressive Pass Distance', 'Short Passes Completed',\n",
        "    'Short Passes Att', 'Short Passing Cmpl %', 'Medium Passes Cmpl',\n",
        "    'Medium Passes Att', 'Medum Pass Cmpl %', 'Long Passes Cmpl',\n",
        "    'Long Passes Att', 'Long Pass Cmpl %', 'Shot Creating Actions',\n",
        "    'Live Pass to Shot', 'Dead Pass to Shot', 'Take-Ons to Shot',\n",
        "    'Shots  to  Shot', 'Fouls Drawn', 'Def Actions to Shot',\n",
        "    'Goal-Creating Actions', 'Goal Creating Live Passes',\n",
        "    'Goal Creating Dead Passes', 'Take-Ons to Goal', 'Shots to Goal Scored',\n",
        "    'Fouls to Goals', 'Def Actions to Goal', 'Carries',\n",
        "    'Total Carrying Distance', 'Total Progressive Distance',\n",
        "    'Progressive Carries', 'Final Third Entry Carries', 'Carries into box',\n",
        "    'Miscontrols', 'Dispossessions', 'Passes Received',\n",
        "    'Prgogressive Passes Received', 'Total Touches', 'Touches  Def Pen',\n",
        "    'Touches  Def 3rd', 'Touches Mid 3', 'Touches Att 3rd',\n",
        "    'Touhces Att Pen', 'Touches Live', 'Take-Ons Attempted',\n",
        "    'Take-Ons Sucessful ', 'Take-On Success', 'Tackled', 'Tackled %'\n",
        "]\n",
        "\n",
        "target = 'xG'\n",
        "\n",
        "X = similar_players_cluster[features].values\n",
        "y = similar_players_cluster[target].values\n",
        "\n",
        "scaler = StandardScaler()\n",
        "X_scaled = scaler.fit_transform(X)\n",
        "\n",
        "knn = KNeighborsRegressor(n_neighbors=5)\n",
        "knn.fit(X_scaled, y)\n",
        "\n",
        "selected_player_stats = similar_players_cluster[similar_players_cluster['Player'] == selected_player][features].values\n",
        "selected_player_scaled = scaler.transform(selected_player_stats)\n",
        "selected_player_pred = knn.predict(selected_player_scaled)[0]\n",
        "\n",
        "similar_players_cluster.loc[:, 'Predicted xG'] = knn.predict(X_scaled)\n",
        "similar_players_without_selected = similar_players_cluster[similar_players_cluster['Player'] != selected_player].copy()\n",
        "similar_players_without_selected.loc[:, 'xG Difference'] = abs(similar_players_without_selected['Predicted xG'] - selected_player_pred)\n",
        "sorted_similar_players = similar_players_without_selected.sort_values(by=['xG Difference', 'Gls'], ascending=[True, False])\n",
        "\n",
        "best_fit_player = sorted_similar_players.iloc[0]\n",
        "print(f\"\\nBest Replacement for {selected_player}: {best_fit_player['Player']}\")\n",
        "print(best_fit_player[['Player', 'Matches Played', 'Gls', 'Predicted xG']])\n",
        "\n",
        "print(\"\\nSorted List of Closest Players by xG (ties resolved by Goals):\")\n",
        "print(sorted_similar_players[['Player', 'Matches Played', 'Gls', 'Predicted xG', 'xG Difference']].head())\n"
      ],
      "metadata": {
        "colab": {
          "base_uri": "https://localhost:8080/",
          "height": 488
        },
        "id": "mUsWWtKJ3Nkq",
        "outputId": "72a07732-65f7-44c9-ae28-6202ae866f44"
      },
      "execution_count": null,
      "outputs": [
        {
          "output_type": "stream",
          "name": "stdout",
          "text": [
            "Top 10 Forwards in European Leagues:\n",
            "1. Harry Kane\n",
            "2. Erling Haaland\n",
            "3. Kylian Mbappé\n",
            "4. Robert Lewandowski\n",
            "5. Lautaro Martínez\n",
            "6. Loïs Openda\n",
            "7. Jonathan David\n",
            "8. Alexandre Lacazette\n",
            "9. Mohamed Salah\n",
            "10. Serhou Guirassy\n",
            "Enter the number corresponding to the player (1-10): 9\n",
            "\n",
            "You selected: Mohamed Salah\n"
          ]
        },
        {
          "output_type": "error",
          "ename": "NameError",
          "evalue": "name 'similar_players' is not defined",
          "traceback": [
            "\u001b[0;31m---------------------------------------------------------------------------\u001b[0m",
            "\u001b[0;31mNameError\u001b[0m                                 Traceback (most recent call last)",
            "\u001b[0;32m<ipython-input-14-d4879cc408b4>\u001b[0m in \u001b[0;36m<cell line: 31>\u001b[0;34m()\u001b[0m\n\u001b[1;32m     29\u001b[0m \u001b[0;34m\u001b[0m\u001b[0m\n\u001b[1;32m     30\u001b[0m \u001b[0mprint\u001b[0m\u001b[0;34m(\u001b[0m\u001b[0;34mf\"\\nYou selected: {selected_player}\"\u001b[0m\u001b[0;34m)\u001b[0m\u001b[0;34m\u001b[0m\u001b[0;34m\u001b[0m\u001b[0m\n\u001b[0;32m---> 31\u001b[0;31m \u001b[0mselected_player_cluster\u001b[0m \u001b[0;34m=\u001b[0m \u001b[0msimilar_players\u001b[0m\u001b[0;34m[\u001b[0m\u001b[0msimilar_players\u001b[0m\u001b[0;34m[\u001b[0m\u001b[0;34m'Player'\u001b[0m\u001b[0;34m]\u001b[0m \u001b[0;34m==\u001b[0m \u001b[0mselected_player\u001b[0m\u001b[0;34m]\u001b[0m\u001b[0;34m[\u001b[0m\u001b[0;34m'cluster'\u001b[0m\u001b[0;34m]\u001b[0m\u001b[0;34m.\u001b[0m\u001b[0mvalues\u001b[0m\u001b[0;34m[\u001b[0m\u001b[0;36m0\u001b[0m\u001b[0;34m]\u001b[0m\u001b[0;34m\u001b[0m\u001b[0;34m\u001b[0m\u001b[0m\n\u001b[0m\u001b[1;32m     32\u001b[0m \u001b[0msimilar_players_cluster\u001b[0m \u001b[0;34m=\u001b[0m \u001b[0msimilar_players\u001b[0m\u001b[0;34m[\u001b[0m\u001b[0msimilar_players\u001b[0m\u001b[0;34m[\u001b[0m\u001b[0;34m'cluster'\u001b[0m\u001b[0;34m]\u001b[0m \u001b[0;34m==\u001b[0m \u001b[0mselected_player_cluster\u001b[0m\u001b[0;34m]\u001b[0m\u001b[0;34m.\u001b[0m\u001b[0mcopy\u001b[0m\u001b[0;34m(\u001b[0m\u001b[0;34m)\u001b[0m\u001b[0;34m\u001b[0m\u001b[0;34m\u001b[0m\u001b[0m\n\u001b[1;32m     33\u001b[0m \u001b[0;34m\u001b[0m\u001b[0m\n",
            "\u001b[0;31mNameError\u001b[0m: name 'similar_players' is not defined"
          ]
        }
      ]
    }
  ],
  "metadata": {
    "colab": {
      "provenance": []
    },
    "kernelspec": {
      "display_name": "Python 3",
      "name": "python3"
    },
    "language_info": {
      "name": "python"
    }
  },
  "nbformat": 4,
  "nbformat_minor": 0
}